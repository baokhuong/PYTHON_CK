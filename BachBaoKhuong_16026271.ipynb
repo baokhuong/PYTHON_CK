{
  "nbformat": 4,
  "nbformat_minor": 0,
  "metadata": {
    "colab": {
      "name": "BachBaoKhuong_16026271.ipynb",
      "provenance": [],
      "collapsed_sections": []
    },
    "kernelspec": {
      "display_name": "Python 3",
      "name": "python3"
    }
  },
  "cells": [
    {
      "cell_type": "markdown",
      "metadata": {
        "id": "iY0hQcXMx952"
      },
      "source": [
        "Lập trình phân tích dư liệu 2\r\n",
        "Bạch Bảo Khương\r\n",
        "16026271"
      ]
    },
    {
      "cell_type": "code",
      "metadata": {
        "id": "EFcTOe_9yD5T"
      },
      "source": [
        "import numpy as np\r\n",
        "import pandas as pd\r\n",
        "from matplotlib import pyplot as plt\r\n",
        "import seaborn as sns\r\n",
        "%matplotlib inline"
      ],
      "execution_count": null,
      "outputs": []
    },
    {
      "cell_type": "code",
      "metadata": {
        "id": "ZLrwzQfO0GR0",
        "colab": {
          "base_uri": "https://localhost:8080/"
        },
        "outputId": "0f0bc7f7-027e-4bb3-f596-3543dcc817a3"
      },
      "source": [
        " df=pd.read_excel('/content/KQThiLyThuyet-26.12.2020_ca2.xls') \r\n",
        " df.info()"
      ],
      "execution_count": 30,
      "outputs": [
        {
          "output_type": "stream",
          "text": [
            "<class 'pandas.core.frame.DataFrame'>\n",
            "RangeIndex: 64 entries, 0 to 63\n",
            "Data columns (total 8 columns):\n",
            " #   Column     Non-Null Count  Dtype  \n",
            "---  ------     --------------  -----  \n",
            " 0   STT        64 non-null     int64  \n",
            " 1   Mã SV      64 non-null     int64  \n",
            " 2   Họ đệm     64 non-null     object \n",
            " 3   Tên        64 non-null     object \n",
            " 4   Giới tính  64 non-null     object \n",
            " 5   Ngày sinh  60 non-null     object \n",
            " 6   Điểm LT    64 non-null     float64\n",
            " 7   Điểm TH    64 non-null     float64\n",
            "dtypes: float64(2), int64(2), object(4)\n",
            "memory usage: 4.1+ KB\n"
          ],
          "name": "stdout"
        }
      ]
    },
    {
      "cell_type": "code",
      "metadata": {
        "colab": {
          "base_uri": "https://localhost:8080/"
        },
        "id": "c96YAqDI1Xhb",
        "outputId": "ef875476-14fc-4285-f996-9845745806ee"
      },
      "source": [
        "df.isnull().sum()"
      ],
      "execution_count": 31,
      "outputs": [
        {
          "output_type": "execute_result",
          "data": {
            "text/plain": [
              "STT          0\n",
              "Mã SV        0\n",
              "Họ đệm       0\n",
              "Tên          0\n",
              "Giới tính    0\n",
              "Ngày sinh    4\n",
              "Điểm LT      0\n",
              "Điểm TH      0\n",
              "dtype: int64"
            ]
          },
          "metadata": {
            "tags": []
          },
          "execution_count": 31
        }
      ]
    },
    {
      "cell_type": "code",
      "metadata": {
        "colab": {
          "base_uri": "https://localhost:8080/"
        },
        "id": "AfFEL1_4GkqB",
        "outputId": "3bd57680-e141-4bdf-fcfd-5ed9fe885dfa"
      },
      "source": [
        "df['Điểm LT'].describe()"
      ],
      "execution_count": 32,
      "outputs": [
        {
          "output_type": "execute_result",
          "data": {
            "text/plain": [
              "count    64.000000\n",
              "mean      5.315625\n",
              "std       1.205703\n",
              "min       0.000000\n",
              "25%       4.725000\n",
              "50%       5.400000\n",
              "75%       6.300000\n",
              "max       7.000000\n",
              "Name: Điểm LT, dtype: float64"
            ]
          },
          "metadata": {
            "tags": []
          },
          "execution_count": 32
        }
      ]
    },
    {
      "cell_type": "code",
      "metadata": {
        "colab": {
          "base_uri": "https://localhost:8080/",
          "height": 282
        },
        "id": "SBiGI_z6HJ3I",
        "outputId": "1fe5a125-5d17-4c2d-9463-90740208228a"
      },
      "source": [
        "df['Điểm LT'].hist()"
      ],
      "execution_count": 36,
      "outputs": [
        {
          "output_type": "execute_result",
          "data": {
            "text/plain": [
              "<matplotlib.axes._subplots.AxesSubplot at 0x7f54482912b0>"
            ]
          },
          "metadata": {
            "tags": []
          },
          "execution_count": 36
        },
        {
          "output_type": "display_data",
          "data": {
            "image/png": "[encoded data removed]",
            "text/plain": [
              "<Figure size 432x288 with 1 Axes>"
            ]
          },
          "metadata": {
            "tags": [],
            "needs_background": "light"
          }
        }
      ]
    },
    {
      "cell_type": "markdown",
      "metadata": {
        "id": "8INdoLgwHN-e"
      },
      "source": [
        "Đa số sinh viên có điểm lý thuyết nằm trong khoảng từ 4 đến  7. Trung bình các sinh viên có số điểm lớn hơn 3 và 1 trường hợp có điểm 0. Số sinh viên có số điểm 7(số điểm cao nhất ở phần lý thuyết) là 18 sinh viên. Và nhiều thứ 2 là 5 điểm với 15 sinh viêns"
      ]
    },
    {
      "cell_type": "code",
      "metadata": {
        "colab": {
          "base_uri": "https://localhost:8080/",
          "height": 296
        },
        "id": "jN0v_xOcG2th",
        "outputId": "50457b8a-f9c4-4fe2-cd8c-37558e4185fa"
      },
      "source": [
        "sns.boxplot(x=df['Giới tính'], y=df['Điểm LT'])\r\n"
      ],
      "execution_count": 34,
      "outputs": [
        {
          "output_type": "execute_result",
          "data": {
            "text/plain": [
              "<matplotlib.axes._subplots.AxesSubplot at 0x7f5448179940>"
            ]
          },
          "metadata": {
            "tags": []
          },
          "execution_count": 34
        },
        {
          "output_type": "display_data",
          "data": {
            "image/png": "[encoded data removed]",
            "text/plain": [
              "<Figure size 432x288 with 1 Axes>"
            ]
          },
          "metadata": {
            "tags": [],
            "needs_background": "light"
          }
        }
      ]
    },
    {
      "cell_type": "markdown",
      "metadata": {
        "id": "Zq_D6NMrHAJ3"
      },
      "source": [
        "Biểu đồ hộp giúp biểu diễn các đại lượng quan trọng của dãy số như giá trị nhỏ nhất (min), giá trị lớn nhất (max), tứ phân vị (quartile), khoảng biến thiên tứ phân vị (Interquartile Range) một cách trực quan, dễ hiểu.\r\n",
        "Ở đây cho ta thấy 1 bạn nam đạt 5.5, chỉ 1 bạn nữ 0 điểm.\r\n",
        "Tập trung nhiều điểm của các bạn nữ sẽ là 4.7 điểm đến 6.3 điểm với trung vị là 5.4 điểm đạt cao nhất là 7 điểm."
      ]
    }
  ]
}